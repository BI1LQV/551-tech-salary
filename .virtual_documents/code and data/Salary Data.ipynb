import dash
from dash import dcc, html
from dash.dependencies import Input, Output
import plotly.express as px
import pandas as pd

df = pd.read_csv("your_output_file.csv")

df.replace("NA", pd.NA, inplace=True)

numeric_cols = ["basesalary", "stockgrantvalue", "bonus", 
                "totalyearlycompensation", "yearsofexperience", "yearsatcompany"]
for col in numeric_cols:
    df[col] = pd.to_numeric(df[col], errors="coerce")


app = dash.Dash(__name__)

app.layout = html.Div([
    html.H1("Salary Data Visualization Dashboard"),

    html.Div([
        html.Label("Select Company:"),
        dcc.Dropdown(
            id="company-dropdown",
            options=[{"label": c, "value": c} for c in df["company"].dropna().unique()],
            value=None, 
            clearable=True,
            placeholder="Please select a company"
        )
    ], style={"width": "300px"}),

    dcc.Graph(id="scatter-graph"),

])

@app.callback(
    Output("scatter-graph", "figure"),
    [Input("company-dropdown", "value")]
)
def update_scatter(selected_company):

    if selected_company:
        filtered_df = df[df["company"] == selected_company].copy()
    else:
        filtered_df = df.copy()

    if filtered_df.empty:
        return px.scatter(title="No Data")

    fig = px.scatter(
        filtered_df,
        x="yearsofexperience",
        y="totalyearlycompensation",
        color="level",
        hover_data=["title", "basesalary", "stockgrantvalue", "bonus", "location"],
        title=f"{selected_company or 'All Companies'}: Years of Experience vs. Total Compensation"
    )
    fig.update_layout(xaxis_title="Years of Experience", yaxis_title="Total Compensation")
    return fig

if __name__ == "__main__":
    app.run_server(debug=True)




