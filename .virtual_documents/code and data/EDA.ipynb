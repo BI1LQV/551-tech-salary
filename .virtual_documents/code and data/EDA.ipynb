import pandas as pd
import missingno as msno
import seaborn as sns


df=pd.read_csv("tech_salary_data.csv")
print(df.info())
df.head()


df.isnull().sum()


print(df['location'].unique())


df.count()
df.sample(10)



msno.matrix(df)


msno.heatmap(df)
