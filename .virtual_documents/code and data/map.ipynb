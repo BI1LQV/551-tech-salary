import pandas as pd



df=pd.read_csv('your_output_file.csv')
df.head()



import pandas as pd
import dash
from dash import dcc, html, dash_table
import altair as alt
from vega_datasets import data
from dash.dependencies import Input, Output

# Ensure timestamp is in datetime format
df['timestamp'] = pd.to_datetime(df['timestamp'])

# Ensure latitude and longitude are numeric
df['latitude'] = pd.to_numeric(df['latitude'], errors='coerce')
df['longitude'] = pd.to_numeric(df['longitude'], errors='coerce')

# Get min and max timestamps for range slider
min_date = df['timestamp'].min()
max_date = df['timestamp'].max()

# Convert timestamps to numerical values for the range slider
df['timestamp_numeric'] = (df['timestamp'] - min_date).dt.days

# Load world map data
world_map = alt.topo_feature(data.world_110m.url, "countries")

# Initialize Dash app
app = dash.Dash(__name__)

app.layout = html.Div([
    html.H1("Salary Distribution Dashboard", style={'textAlign': 'center'}),

    # Timestamp Range Slider
    html.Label("Select Date Range:"),
    dcc.RangeSlider(
        id="timestamp-slider",
        min=0,
        max=(max_date - min_date).days,
        value=[0, (max_date - min_date).days],  # Default to full range
        marks={i: (min_date + pd.Timedelta(days=i)).strftime('%Y-%m-%d') for i in range(0, (max_date - min_date).days + 1, max(1, (max_date - min_date).days // 10))},
        step=1
    ),

    # Altair Chart using Iframe
    html.Iframe(
        id="altair-map",
        style={"width": "100%", "height": "600px", "border": "none"}
    ),

    # Data Table
    html.H3("Location-wise Salary Data", style={'textAlign': 'center'}),
    dash_table.DataTable(
        id="salary-table",
        columns=[
            {"name": "Location", "id": "location"},
            {"name": "Average Salary", "id": "avg_salary", "type": "numeric", "format": {"specifier": "$,.2f"}},
        ],
        style_table={'overflowX': 'auto'},
        page_size=10
    )
])

# Callback to update data based on selected date range
@app.callback(
    [Output("altair-map", "srcDoc"), Output("salary-table", "data")],
    [Input("timestamp-slider", "value")]
)
def update_dashboard(selected_range):
    # Convert slider values back to timestamps
    start_date = min_date + pd.Timedelta(days=selected_range[0])
    end_date = min_date + pd.Timedelta(days=selected_range[1])

    # Filter data based on selected date range
    filtered_df = df[(df['timestamp'] >= start_date) & (df['timestamp'] <= end_date)]

    # Group by location after filtering
    grouped = filtered_df.groupby(['latitude', 'longitude'], as_index=False).agg(
        avg_salary=('totalyearlycompensation', 'mean'),
        location=('location', 'first')  # Keep one location name
    )

    # Create Altair map
    def create_altair_map():
        base = alt.Chart(world_map).mark_geoshape(
            fill='lightgray',
            stroke='white'
        ).properties(
            width=1200,
            height=750
        ).project("equirectangular")

        points = alt.Chart(grouped).mark_circle().encode(
            longitude="longitude:Q",
            latitude="latitude:Q",
            size=alt.Size("avg_salary:Q", scale=alt.Scale(range=[10, 250]), title="Average Salary"),
            color=alt.Color("avg_salary:Q", scale=alt.Scale(scheme="redyellowblue"), title="Average Salary"),
            tooltip=["location:N", "avg_salary:Q"]
        )

        return (base + points).interactive()

    # Save Altair chart as an HTML file
    altair_chart = create_altair_map()
    altair_chart.save("altair_map.html")

    return open("altair_map.html", "r").read(), grouped.to_dict("records")

# Run the dashboard
if __name__ == "__main__":
    app.run_server(debug=True)




