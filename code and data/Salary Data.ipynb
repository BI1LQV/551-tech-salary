{
 "cells": [
  {
   "cell_type": "code",
   "execution_count": 1,
   "id": "8e0ae892-ce4c-4e98-9e06-69725b21e404",
   "metadata": {},
   "outputs": [
    {
     "data": {
      "text/html": [
       "\n",
       "        <iframe\n",
       "            width=\"100%\"\n",
       "            height=\"650\"\n",
       "            src=\"http://127.0.0.1:8050/\"\n",
       "            frameborder=\"0\"\n",
       "            allowfullscreen\n",
       "            \n",
       "        ></iframe>\n",
       "        "
      ],
      "text/plain": [
       "<IPython.lib.display.IFrame at 0x13b080b00>"
      ]
     },
     "metadata": {},
     "output_type": "display_data"
    }
   ],
   "source": [
    "import dash\n",
    "from dash import dcc, html\n",
    "from dash.dependencies import Input, Output\n",
    "import plotly.express as px\n",
    "import pandas as pd\n",
    "\n",
    "df = pd.read_csv(\"your_output_file.csv\")\n",
    "\n",
    "df.replace(\"NA\", pd.NA, inplace=True)\n",
    "\n",
    "numeric_cols = [\"basesalary\", \"stockgrantvalue\", \"bonus\", \n",
    "                \"totalyearlycompensation\", \"yearsofexperience\", \"yearsatcompany\"]\n",
    "for col in numeric_cols:\n",
    "    df[col] = pd.to_numeric(df[col], errors=\"coerce\")\n",
    "\n",
    "\n",
    "# app = dash.Dash(__name__)\n",
    "\n",
    "# def table_layout():\n",
    "#     return html.Div([\n",
    "#         html.H1(\"Salary Data Visualization Dashboard\"),\n",
    "\n",
    "#         html.Div([\n",
    "#             html.Label(\"Select Company:\"),\n",
    "#             dcc.Dropdown(\n",
    "#                 id=\"company-dropdown\",\n",
    "#                 options=[{\"label\": c, \"value\": c} for c in df[\"company\"].dropna().unique()],\n",
    "#                 value=None, \n",
    "#                 clearable=True,\n",
    "#                 placeholder=\"Please select a company\"\n",
    "#             )\n",
    "#         ], style={\"width\": \"300px\"}),\n",
    "\n",
    "#         dcc.Graph(id=\"scatter-graph\"),\n",
    "\n",
    "#     ])\n",
    "\n",
    "\n",
    "# app.layout = html.Div([\n",
    "#     html.H1(\"Salary Data Visualization Dashboard\"),\n",
    "\n",
    "#     html.Div([\n",
    "#         html.Label(\"Select Company:\"),\n",
    "#         dcc.Dropdown(\n",
    "#             id=\"company-dropdown\",\n",
    "#             options=[{\"label\": c, \"value\": c} for c in df[\"company\"].dropna().unique()],\n",
    "#             value=None, \n",
    "#             clearable=True,\n",
    "#             placeholder=\"Please select a company\"\n",
    "#         )\n",
    "#     ], style={\"width\": \"300px\"}),\n",
    "\n",
    "#     dcc.Graph(id=\"scatter-graph\"),\n",
    "\n",
    "# ])\n",
    "\n",
    "@app.callback(\n",
    "    Output(\"scatter-graph\", \"figure\"),\n",
    "    [Input(\"company-dropdown\", \"value\")]\n",
    ")\n",
    "def update_scatter(selected_company):\n",
    "\n",
    "    if selected_company:\n",
    "        filtered_df = df[df[\"company\"] == selected_company].copy()\n",
    "    else:\n",
    "        filtered_df = df.copy()\n",
    "\n",
    "    if filtered_df.empty:\n",
    "        return px.scatter(title=\"No Data\")\n",
    "\n",
    "    fig = px.scatter(\n",
    "        filtered_df,\n",
    "        x=\"yearsofexperience\",\n",
    "        y=\"totalyearlycompensation\",\n",
    "        color=\"level\",\n",
    "        hover_data=[\"title\", \"basesalary\", \"stockgrantvalue\", \"bonus\", \"location\"],\n",
    "        title=f\"{selected_company or 'All Companies'}: Years of Experience vs. Total Compensation\"\n",
    "    )\n",
    "    fig.update_layout(xaxis_title=\"Years of Experience\", yaxis_title=\"Total Compensation\")\n",
    "    return fig\n",
    "\n",
    "# if __name__ == \"__main__\":\n",
    "#     app.run_server(debug=True)\n"
   ]
  },
  {
   "cell_type": "code",
   "execution_count": null,
   "id": "27217ad0-61c3-440f-8194-ad03404b5200",
   "metadata": {},
   "outputs": [],
   "source": []
  }
 ],
 "metadata": {
  "kernelspec": {
   "display_name": "Python 3 (ipykernel)",
   "language": "python",
   "name": "python3"
  },
  "language_info": {
   "codemirror_mode": {
    "name": "ipython",
    "version": 3
   },
   "file_extension": ".py",
   "mimetype": "text/x-python",
   "name": "python",
   "nbconvert_exporter": "python",
   "pygments_lexer": "ipython3",
   "version": "3.12.2"
  }
 },
 "nbformat": 4,
 "nbformat_minor": 5
}
