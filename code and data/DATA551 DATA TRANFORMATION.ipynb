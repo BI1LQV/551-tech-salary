{
 "cells": [
  {
   "cell_type": "code",
   "execution_count": 2,
   "id": "7ddf5ed0-abba-4436-949f-5e005eb85871",
   "metadata": {},
   "outputs": [
    {
     "name": "stdout",
     "output_type": "stream",
     "text": [
      "CSV file saved to your_output_file.csv\n"
     ]
    }
   ],
   "source": [
    "import pandas as pd\n",
    "from geopy.geocoders import Nominatim\n",
    "import time\n",
    "\n",
    "csv_path = \"tech_salary_data.csv\" \n",
    "df = pd.read_csv(csv_path)\n",
    "\n",
    "geolocator = Nominatim(user_agent=\"my-app\", timeout=10)\n",
    "\n",
    "def geocode_location(loc):\n",
    "    if pd.isna(loc): \n",
    "        return None, None\n",
    "    try:\n",
    "        geo = geolocator.geocode(loc)\n",
    "        if geo:\n",
    "            return geo.latitude, geo.longitude\n",
    "        else:\n",
    "            return None, None\n",
    "    except Exception as e:\n",
    "        print(f\"Error geocoding {loc}: {e}\")\n",
    "        return None, None\n",
    "\n",
    "unique_locations = df['location'].dropna().unique()\n",
    "\n",
    "lat_lon_mapping = {}\n",
    "for loc in unique_locations:\n",
    "    if loc not in lat_lon_mapping: \n",
    "        lat, lon = geocode_location(loc)\n",
    "        lat_lon_mapping[loc] = (lat, lon)\n",
    "        time.sleep(1) \n",
    "\n",
    "df['latitude'] = df['location'].map(lambda x: lat_lon_mapping.get(x, (None, None))[0])\n",
    "df['longitude'] = df['location'].map(lambda x: lat_lon_mapping.get(x, (None, None))[1])\n",
    "\n",
    "output_csv_path = \"your_output_file.csv\"\n",
    "df.to_csv(output_csv_path, index=False)\n",
    "\n",
    "print(f\"CSV file saved to {output_csv_path}\")\n"
   ]
  }
 ],
 "metadata": {
  "kernelspec": {
   "display_name": "base",
   "language": "python",
   "name": "python3"
  },
  "language_info": {
   "codemirror_mode": {
    "name": "ipython",
    "version": 3
   },
   "file_extension": ".py",
   "mimetype": "text/x-python",
   "name": "python",
   "nbconvert_exporter": "python",
   "pygments_lexer": "ipython3",
   "version": "3.12.3"
  }
 },
 "nbformat": 4,
 "nbformat_minor": 5
}
